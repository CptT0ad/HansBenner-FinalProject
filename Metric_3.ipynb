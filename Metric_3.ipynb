{
 "cells": [
  {
   "cell_type": "markdown",
   "metadata": {},
   "source": [
    "# Metric 3"
   ]
  },
  {
   "cell_type": "markdown",
   "metadata": {},
   "source": [
    "## Aggregate Household Income (2015)"
   ]
  },
  {
   "cell_type": "code",
   "execution_count": 46,
   "metadata": {},
   "outputs": [],
   "source": [
    "import pandas as pd"
   ]
  },
  {
   "cell_type": "markdown",
   "metadata": {},
   "source": [
    "This metric was chosen to help us decide on the most bountiful areas to be a criminal.  After all, if you're not doing much, you're not being very successful are you?"
   ]
  },
  {
   "cell_type": "code",
   "execution_count": 47,
   "metadata": {},
   "outputs": [
    {
     "data": {
      "text/html": [
       "<div>\n",
       "<style scoped>\n",
       "    .dataframe tbody tr th:only-of-type {\n",
       "        vertical-align: middle;\n",
       "    }\n",
       "\n",
       "    .dataframe tbody tr th {\n",
       "        vertical-align: top;\n",
       "    }\n",
       "\n",
       "    .dataframe thead th {\n",
       "        text-align: right;\n",
       "    }\n",
       "</style>\n",
       "<table border=\"1\" class=\"dataframe\">\n",
       "  <thead>\n",
       "    <tr style=\"text-align: right;\">\n",
       "      <th></th>\n",
       "      <th>Neighborhood</th>\n",
       "      <th>Estimate; Aggregate household income in the past 12 months (in 2015 Inflation-adjusted dollars)</th>\n",
       "      <th>Margin of Error; Aggregate household income in the past 12 months (in 2015 Inflation-adjusted dollars)</th>\n",
       "    </tr>\n",
       "    <tr>\n",
       "      <th>Id</th>\n",
       "      <th></th>\n",
       "      <th></th>\n",
       "      <th></th>\n",
       "    </tr>\n",
       "  </thead>\n",
       "  <tbody>\n",
       "    <tr>\n",
       "      <th>1</th>\n",
       "      <td>Allegheny Center</td>\n",
       "      <td>39947000</td>\n",
       "      <td>6437773</td>\n",
       "    </tr>\n",
       "    <tr>\n",
       "      <th>2</th>\n",
       "      <td>Allegheny West</td>\n",
       "      <td>23793300</td>\n",
       "      <td>22025939</td>\n",
       "    </tr>\n",
       "    <tr>\n",
       "      <th>3</th>\n",
       "      <td>Allentown</td>\n",
       "      <td>38303700</td>\n",
       "      <td>7490207.043</td>\n",
       "    </tr>\n",
       "    <tr>\n",
       "      <th>4</th>\n",
       "      <td>Arlington</td>\n",
       "      <td>35349900</td>\n",
       "      <td>6140662.723</td>\n",
       "    </tr>\n",
       "    <tr>\n",
       "      <th>5</th>\n",
       "      <td>Arlington Heights</td>\n",
       "      <td>2389600</td>\n",
       "      <td>1162393</td>\n",
       "    </tr>\n",
       "  </tbody>\n",
       "</table>\n",
       "</div>"
      ],
      "text/plain": [
       "         Neighborhood  \\\n",
       "Id                      \n",
       "1    Allegheny Center   \n",
       "2      Allegheny West   \n",
       "3           Allentown   \n",
       "4           Arlington   \n",
       "5   Arlington Heights   \n",
       "\n",
       "   Estimate; Aggregate household income in the past 12 months (in 2015 Inflation-adjusted dollars)  \\\n",
       "Id                                                                                                   \n",
       "1                                            39947000                                                \n",
       "2                                            23793300                                                \n",
       "3                                            38303700                                                \n",
       "4                                            35349900                                                \n",
       "5                                             2389600                                                \n",
       "\n",
       "   Margin of Error; Aggregate household income in the past 12 months (in 2015 Inflation-adjusted dollars)  \n",
       "Id                                                                                                         \n",
       "1                                             6437773                                                      \n",
       "2                                            22025939                                                      \n",
       "3                                         7490207.043                                                      \n",
       "4                                         6140662.723                                                      \n",
       "5                                             1162393                                                      "
      ]
     },
     "execution_count": 47,
     "metadata": {},
     "output_type": "execute_result"
    }
   ],
   "source": [
    "# load in the Pittsburgh facility data file\n",
    "money = pd.read_csv(\"aggregate-household-income-in-the-past-12-months-in-2015-inflation-adjusted-dollars.csv\", index_col=\"Id\")\n",
    "\n",
    "# look at 5 rows of data\n",
    "money.head()"
   ]
  },
  {
   "cell_type": "markdown",
   "metadata": {},
   "source": [
    "Just like with the first one, let's check and get rid of the unnecessary columns we don't need."
   ]
  },
  {
   "cell_type": "code",
   "execution_count": 48,
   "metadata": {},
   "outputs": [
    {
     "name": "stdout",
     "output_type": "stream",
     "text": [
      "Index(['Neighborhood',\n",
      "       'Estimate; Aggregate household income in the past 12 months (in 2015 Inflation-adjusted dollars)',\n",
      "       'Margin of Error; Aggregate household income in the past 12 months (in 2015 Inflation-adjusted dollars)'],\n",
      "      dtype='object')\n"
     ]
    }
   ],
   "source": [
    "print(money.columns)"
   ]
  },
  {
   "cell_type": "code",
   "execution_count": 49,
   "metadata": {},
   "outputs": [
    {
     "name": "stdout",
     "output_type": "stream",
     "text": [
      "           Neighborhood  \\\n",
      "Id                        \n",
      "1      Allegheny Center   \n",
      "2        Allegheny West   \n",
      "3             Allentown   \n",
      "4             Arlington   \n",
      "5     Arlington Heights   \n",
      "..                  ...   \n",
      "87  Upper Lawrenceville   \n",
      "88             West End   \n",
      "89         West Oakland   \n",
      "90             Westwood   \n",
      "91              Windgap   \n",
      "\n",
      "   Estimate; Aggregate household income in the past 12 months (in 2015 Inflation-adjusted dollars)  \n",
      "Id                                                                                                  \n",
      "1                                            39947000                                               \n",
      "2                                            23793300                                               \n",
      "3                                            38303700                                               \n",
      "4                                            35349900                                               \n",
      "5                                             2389600                                               \n",
      "..                                                ...                                               \n",
      "87                                           65738500                                               \n",
      "88                                            3615800                                               \n",
      "89                                           16339500                                               \n",
      "90                                           91857100                                               \n",
      "91                                           34609300                                               \n",
      "\n",
      "[91 rows x 2 columns]\n"
     ]
    }
   ],
   "source": [
    "money.columns = ['Neighborhood',\n",
    "       'Estimate; Aggregate household income in the past 12 months (in 2015 Inflation-adjusted dollars)',\n",
    "       'Margin of Error; Aggregate household income in the past 12 months (in 2015 Inflation-adjusted dollars)']\n",
    "money = money.drop(columns = ['Margin of Error; Aggregate household income in the past 12 months (in 2015 Inflation-adjusted dollars)'])\n",
    "print(money)"
   ]
  },
  {
   "cell_type": "markdown",
   "metadata": {},
   "source": [
    "Okay, now we have the smallest amount of necessary columns.  From here we will arrange them from wealthiest to least wealthy."
   ]
  },
  {
   "cell_type": "code",
   "execution_count": 50,
   "metadata": {},
   "outputs": [],
   "source": [
    "money = money.dropna()"
   ]
  },
  {
   "cell_type": "code",
   "execution_count": 51,
   "metadata": {},
   "outputs": [
    {
     "data": {
      "text/html": [
       "<div>\n",
       "<style scoped>\n",
       "    .dataframe tbody tr th:only-of-type {\n",
       "        vertical-align: middle;\n",
       "    }\n",
       "\n",
       "    .dataframe tbody tr th {\n",
       "        vertical-align: top;\n",
       "    }\n",
       "\n",
       "    .dataframe thead th {\n",
       "        text-align: right;\n",
       "    }\n",
       "</style>\n",
       "<table border=\"1\" class=\"dataframe\">\n",
       "  <thead>\n",
       "    <tr style=\"text-align: right;\">\n",
       "      <th></th>\n",
       "      <th>Neighborhood</th>\n",
       "      <th>Estimate; Aggregate household income in the past 12 months (in 2015 Inflation-adjusted dollars)</th>\n",
       "    </tr>\n",
       "    <tr>\n",
       "      <th>Id</th>\n",
       "      <th></th>\n",
       "      <th></th>\n",
       "    </tr>\n",
       "  </thead>\n",
       "  <tbody>\n",
       "    <tr>\n",
       "      <th>72</th>\n",
       "      <td>South Shore</td>\n",
       "      <td>-</td>\n",
       "    </tr>\n",
       "    <tr>\n",
       "      <th>22</th>\n",
       "      <td>Chateau</td>\n",
       "      <td>-</td>\n",
       "    </tr>\n",
       "    <tr>\n",
       "      <th>70</th>\n",
       "      <td>Sheraden</td>\n",
       "      <td>101081700</td>\n",
       "    </tr>\n",
       "    <tr>\n",
       "      <th>62</th>\n",
       "      <td>Perry North</td>\n",
       "      <td>104107900</td>\n",
       "    </tr>\n",
       "    <tr>\n",
       "      <th>7</th>\n",
       "      <td>Bedford Dwellings</td>\n",
       "      <td>10529100</td>\n",
       "    </tr>\n",
       "    <tr>\n",
       "      <th>15</th>\n",
       "      <td>California-Kirkbride</td>\n",
       "      <td>10718900</td>\n",
       "    </tr>\n",
       "    <tr>\n",
       "      <th>11</th>\n",
       "      <td>Bluff</td>\n",
       "      <td>11005200</td>\n",
       "    </tr>\n",
       "    <tr>\n",
       "      <th>43</th>\n",
       "      <td>Homewood West</td>\n",
       "      <td>11290000</td>\n",
       "    </tr>\n",
       "    <tr>\n",
       "      <th>29</th>\n",
       "      <td>East Liberty</td>\n",
       "      <td>115711700</td>\n",
       "    </tr>\n",
       "    <tr>\n",
       "      <th>57</th>\n",
       "      <td>North Oakland</td>\n",
       "      <td>123408700</td>\n",
       "    </tr>\n",
       "  </tbody>\n",
       "</table>\n",
       "</div>"
      ],
      "text/plain": [
       "            Neighborhood  \\\n",
       "Id                         \n",
       "72           South Shore   \n",
       "22               Chateau   \n",
       "70              Sheraden   \n",
       "62           Perry North   \n",
       "7      Bedford Dwellings   \n",
       "15  California-Kirkbride   \n",
       "11                 Bluff   \n",
       "43         Homewood West   \n",
       "29          East Liberty   \n",
       "57         North Oakland   \n",
       "\n",
       "   Estimate; Aggregate household income in the past 12 months (in 2015 Inflation-adjusted dollars)  \n",
       "Id                                                                                                  \n",
       "72                                                  -                                               \n",
       "22                                                  -                                               \n",
       "70                                          101081700                                               \n",
       "62                                          104107900                                               \n",
       "7                                            10529100                                               \n",
       "15                                           10718900                                               \n",
       "11                                           11005200                                               \n",
       "43                                           11290000                                               \n",
       "29                                          115711700                                               \n",
       "57                                          123408700                                               "
      ]
     },
     "execution_count": 51,
     "metadata": {},
     "output_type": "execute_result"
    }
   ],
   "source": [
    "money_data = money.sort_values(\"Estimate; Aggregate household income in the past 12 months (in 2015 Inflation-adjusted dollars)\", ascending = True)\n",
    "money_data.head(10)"
   ]
  },
  {
   "cell_type": "markdown",
   "metadata": {},
   "source": [
    "That doesn't look right and on further inspection of the csv, we can see that the South Shore and Chateau neighborhoods have ** in place of a value.  Let's get rid of them, as they do not count."
   ]
  },
  {
   "cell_type": "code",
   "execution_count": 52,
   "metadata": {},
   "outputs": [],
   "source": [
    "money_data = money_data.drop(labels=[22,72], axis=0)"
   ]
  },
  {
   "cell_type": "markdown",
   "metadata": {},
   "source": [
    "Now, because I didn't know what I was getting into with this dataset, there were A LOT of issues.  One of which being that the column I am attempting to sort, isn't classified as an int value (I think it might have been due to the ** )."
   ]
  },
  {
   "cell_type": "code",
   "execution_count": 55,
   "metadata": {},
   "outputs": [],
   "source": [
    "money_data[\"Estimate; Aggregate household income in the past 12 months (in 2015 Inflation-adjusted dollars)\"] = money_data[\"Estimate; Aggregate household income in the past 12 months (in 2015 Inflation-adjusted dollars)\"].astype(int)"
   ]
  },
  {
   "cell_type": "markdown",
   "metadata": {},
   "source": [
    "Now when it is printed, it displays the neighborhood with the most wealth and the least."
   ]
  },
  {
   "cell_type": "code",
   "execution_count": 54,
   "metadata": {},
   "outputs": [
    {
     "data": {
      "text/html": [
       "<div>\n",
       "<style scoped>\n",
       "    .dataframe tbody tr th:only-of-type {\n",
       "        vertical-align: middle;\n",
       "    }\n",
       "\n",
       "    .dataframe tbody tr th {\n",
       "        vertical-align: top;\n",
       "    }\n",
       "\n",
       "    .dataframe thead th {\n",
       "        text-align: right;\n",
       "    }\n",
       "</style>\n",
       "<table border=\"1\" class=\"dataframe\">\n",
       "  <thead>\n",
       "    <tr style=\"text-align: right;\">\n",
       "      <th></th>\n",
       "      <th>Neighborhood</th>\n",
       "      <th>Estimate; Aggregate household income in the past 12 months (in 2015 Inflation-adjusted dollars)</th>\n",
       "    </tr>\n",
       "    <tr>\n",
       "      <th>Id</th>\n",
       "      <th></th>\n",
       "      <th></th>\n",
       "    </tr>\n",
       "  </thead>\n",
       "  <tbody>\n",
       "    <tr>\n",
       "      <th>78</th>\n",
       "      <td>Squirrel Hill South</td>\n",
       "      <td>659886300</td>\n",
       "    </tr>\n",
       "    <tr>\n",
       "      <th>69</th>\n",
       "      <td>Shadyside</td>\n",
       "      <td>605635700</td>\n",
       "    </tr>\n",
       "    <tr>\n",
       "      <th>77</th>\n",
       "      <td>Squirrel Hill North</td>\n",
       "      <td>577467500</td>\n",
       "    </tr>\n",
       "    <tr>\n",
       "      <th>14</th>\n",
       "      <td>Brookline</td>\n",
       "      <td>366945900</td>\n",
       "    </tr>\n",
       "    <tr>\n",
       "      <th>64</th>\n",
       "      <td>Point Breeze</td>\n",
       "      <td>314958500</td>\n",
       "    </tr>\n",
       "    <tr>\n",
       "      <th>...</th>\n",
       "      <td>...</td>\n",
       "      <td>...</td>\n",
       "    </tr>\n",
       "    <tr>\n",
       "      <th>31</th>\n",
       "      <td>Esplen</td>\n",
       "      <td>5433900</td>\n",
       "    </tr>\n",
       "    <tr>\n",
       "      <th>36</th>\n",
       "      <td>Glen Hazel</td>\n",
       "      <td>4773300</td>\n",
       "    </tr>\n",
       "    <tr>\n",
       "      <th>79</th>\n",
       "      <td>St. Clair</td>\n",
       "      <td>3867600</td>\n",
       "    </tr>\n",
       "    <tr>\n",
       "      <th>88</th>\n",
       "      <td>West End</td>\n",
       "      <td>3615800</td>\n",
       "    </tr>\n",
       "    <tr>\n",
       "      <th>5</th>\n",
       "      <td>Arlington Heights</td>\n",
       "      <td>2389600</td>\n",
       "    </tr>\n",
       "  </tbody>\n",
       "</table>\n",
       "<p>89 rows × 2 columns</p>\n",
       "</div>"
      ],
      "text/plain": [
       "           Neighborhood  \\\n",
       "Id                        \n",
       "78  Squirrel Hill South   \n",
       "69            Shadyside   \n",
       "77  Squirrel Hill North   \n",
       "14            Brookline   \n",
       "64         Point Breeze   \n",
       "..                  ...   \n",
       "31               Esplen   \n",
       "36           Glen Hazel   \n",
       "79            St. Clair   \n",
       "88             West End   \n",
       "5     Arlington Heights   \n",
       "\n",
       "    Estimate; Aggregate household income in the past 12 months (in 2015 Inflation-adjusted dollars)  \n",
       "Id                                                                                                   \n",
       "78                                          659886300                                                \n",
       "69                                          605635700                                                \n",
       "77                                          577467500                                                \n",
       "14                                          366945900                                                \n",
       "64                                          314958500                                                \n",
       "..                                                ...                                                \n",
       "31                                            5433900                                                \n",
       "36                                            4773300                                                \n",
       "79                                            3867600                                                \n",
       "88                                            3615800                                                \n",
       "5                                             2389600                                                \n",
       "\n",
       "[89 rows x 2 columns]"
      ]
     },
     "execution_count": 54,
     "metadata": {},
     "output_type": "execute_result"
    }
   ],
   "source": [
    "money_data.sort_values('Estimate; Aggregate household income in the past 12 months (in 2015 Inflation-adjusted dollars)', ascending = False)"
   ]
  },
  {
   "cell_type": "markdown",
   "metadata": {},
   "source": [
    "Criminals would want to go to Squirrel Hill South."
   ]
  }
 ],
 "metadata": {
  "kernelspec": {
   "display_name": "Python 3",
   "language": "python",
   "name": "python3"
  },
  "language_info": {
   "codemirror_mode": {
    "name": "ipython",
    "version": 3
   },
   "file_extension": ".py",
   "mimetype": "text/x-python",
   "name": "python",
   "nbconvert_exporter": "python",
   "pygments_lexer": "ipython3",
   "version": "3.8.3"
  }
 },
 "nbformat": 4,
 "nbformat_minor": 4
}
