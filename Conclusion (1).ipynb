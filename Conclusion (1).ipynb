{
 "cells": [
  {
   "cell_type": "markdown",
   "metadata": {},
   "source": [
    "# Conclusion"
   ]
  },
  {
   "cell_type": "markdown",
   "metadata": {},
   "source": [
    "## What we found"
   ]
  },
  {
   "cell_type": "markdown",
   "metadata": {},
   "source": [
    "From Metric 1, we were able to determine Mount Oliver Neighborhood would be the safest for a criminal to operate, since the fewest arrests were there."
   ]
  },
  {
   "cell_type": "markdown",
   "metadata": {},
   "source": [
    "From Metric 2,  we were able to determine Homewood South would be the best place for a successful criminal because then people will protect one another."
   ]
  },
  {
   "cell_type": "markdown",
   "metadata": {},
   "source": [
    "From Metric 3, we were able to determine Squirrel Hill South would be the most bountiful place for a criminal to operate."
   ]
  },
  {
   "cell_type": "markdown",
   "metadata": {},
   "source": [
    "### Using these three winning neighborhoods, we can compare the values we are using from each metric for each neighborhood to judge which neighborhood's stats are overall the best. "
   ]
  },
  {
   "cell_type": "markdown",
   "metadata": {},
   "source": [
    "Metric 1 (Number of Arrests):\n",
    " - Homewood South - 1866\n",
    " - Squirrel Hill South - 729\n",
    " "
   ]
  },
  {
   "cell_type": "markdown",
   "metadata": {},
   "source": [
    "Metric 2 (Number of seizures since 2015):\n",
    "- Mount Oliver Neighborhood - 4\n",
    "- Squirrel Hill South- 47"
   ]
  },
  {
   "cell_type": "markdown",
   "metadata": {},
   "source": [
    "Metric 3 (Aggregate household income, most to least):\n",
    "- Mount Oliver Neighborhood - 13,962,700 dollars, ranked 75th out of 91\n",
    "- Homewood South - 29,434,400 dollars, ranked 62nd out of 91"
   ]
  },
  {
   "cell_type": "markdown",
   "metadata": {},
   "source": [
    "Just looking at this data here, it would be safe to assume that **Squirrel Hill South** would likely be the best neighborhood to be a criminal with it winning out metric 3, and taking second place with metrics 1 and 2."
   ]
  }
 ],
 "metadata": {
  "kernelspec": {
   "display_name": "Python 3",
   "language": "python",
   "name": "python3"
  },
  "language_info": {
   "codemirror_mode": {
    "name": "ipython",
    "version": 3
   },
   "file_extension": ".py",
   "mimetype": "text/x-python",
   "name": "python",
   "nbconvert_exporter": "python",
   "pygments_lexer": "ipython3",
   "version": "3.8.3"
  }
 },
 "nbformat": 4,
 "nbformat_minor": 4
}
