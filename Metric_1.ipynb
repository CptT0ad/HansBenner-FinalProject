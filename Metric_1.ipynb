{
 "cells": [
  {
   "cell_type": "markdown",
   "metadata": {},
   "source": [
    "# Our Goal\n",
    "Determine the best neighborhood in Pittsburgh to be a criminal."
   ]
  },
  {
   "cell_type": "markdown",
   "metadata": {},
   "source": [
    "You could consider this reverse psychology, as maybe we’re just saying that in an effort to help people be aware of the areas most vulnerable to crime.  Or, you could see that we are broke college students. Everyone needs a job. We're not here to judge what career you go into, but we are judging where you should life if the criminal life chooses you. \n",
    "\n",
    "Anyways, our sub-metrics include: \n",
    "\n",
    "- the location of most dispatch calls \n",
    "- police gun seizures\n",
    "- aggregate housing income\n",
    "\n",
    "Each submetric has it's own metric that judges different qualities of a criminal's life to give an answer to what Pittsburgh's best neighborhood to be a criminal "
   ]
  },
  {
   "cell_type": "markdown",
   "metadata": {},
   "source": [
    "# Dataset and Metric 1"
   ]
  },
  {
   "cell_type": "code",
   "execution_count": 1,
   "metadata": {},
   "outputs": [],
   "source": [
    "import pandas as pd"
   ]
  },
  {
   "cell_type": "code",
   "execution_count": 2,
   "metadata": {},
   "outputs": [
    {
     "data": {
      "text/html": [
       "<div>\n",
       "<style scoped>\n",
       "    .dataframe tbody tr th:only-of-type {\n",
       "        vertical-align: middle;\n",
       "    }\n",
       "\n",
       "    .dataframe tbody tr th {\n",
       "        vertical-align: top;\n",
       "    }\n",
       "\n",
       "    .dataframe thead th {\n",
       "        text-align: right;\n",
       "    }\n",
       "</style>\n",
       "<table border=\"1\" class=\"dataframe\">\n",
       "  <thead>\n",
       "    <tr style=\"text-align: right;\">\n",
       "      <th></th>\n",
       "      <th>PK</th>\n",
       "      <th>CCR</th>\n",
       "      <th>AGE</th>\n",
       "      <th>GENDER</th>\n",
       "      <th>RACE</th>\n",
       "      <th>ARRESTTIME</th>\n",
       "      <th>ARRESTLOCATION</th>\n",
       "      <th>OFFENSES</th>\n",
       "      <th>INCIDENTLOCATION</th>\n",
       "      <th>INCIDENTNEIGHBORHOOD</th>\n",
       "      <th>INCIDENTZONE</th>\n",
       "      <th>INCIDENTTRACT</th>\n",
       "      <th>COUNCIL_DISTRICT</th>\n",
       "      <th>PUBLIC_WORKS_DIVISION</th>\n",
       "      <th>X</th>\n",
       "      <th>Y</th>\n",
       "    </tr>\n",
       "    <tr>\n",
       "      <th>_id</th>\n",
       "      <th></th>\n",
       "      <th></th>\n",
       "      <th></th>\n",
       "      <th></th>\n",
       "      <th></th>\n",
       "      <th></th>\n",
       "      <th></th>\n",
       "      <th></th>\n",
       "      <th></th>\n",
       "      <th></th>\n",
       "      <th></th>\n",
       "      <th></th>\n",
       "      <th></th>\n",
       "      <th></th>\n",
       "      <th></th>\n",
       "      <th></th>\n",
       "    </tr>\n",
       "  </thead>\n",
       "  <tbody>\n",
       "    <tr>\n",
       "      <th>43839</th>\n",
       "      <td>2022906</td>\n",
       "      <td>19264086</td>\n",
       "      <td>28.0</td>\n",
       "      <td>M</td>\n",
       "      <td>W</td>\n",
       "      <td>2019-12-31T15:10:00</td>\n",
       "      <td>2500 Block Churchview AV Pittsburgh, PA 15227</td>\n",
       "      <td>903 Criminal Conspiracy. / 2705 Recklessy Enda...</td>\n",
       "      <td>2500 Block Churchview AV Pittsburgh, PA 15227</td>\n",
       "      <td>Carrick</td>\n",
       "      <td>3</td>\n",
       "      <td>2904.0</td>\n",
       "      <td>4.0</td>\n",
       "      <td>3.0</td>\n",
       "      <td>-79.979007</td>\n",
       "      <td>40.385918</td>\n",
       "    </tr>\n",
       "    <tr>\n",
       "      <th>62133</th>\n",
       "      <td>2038462</td>\n",
       "      <td>21091650</td>\n",
       "      <td>54.0</td>\n",
       "      <td>M</td>\n",
       "      <td>B</td>\n",
       "      <td>2021-06-22T22:10:00</td>\n",
       "      <td>2000 Block Brownsville RD Pittsburgh, PA 15210</td>\n",
       "      <td>2702 Aggravated Assault. / 3304(a)(5) CRIMINAL...</td>\n",
       "      <td>2000 Block Brownsville RD Pittsburgh, PA 15210</td>\n",
       "      <td>Carrick</td>\n",
       "      <td>3</td>\n",
       "      <td>2901.0</td>\n",
       "      <td>4.0</td>\n",
       "      <td>3.0</td>\n",
       "      <td>-79.986868</td>\n",
       "      <td>40.394966</td>\n",
       "    </tr>\n",
       "    <tr>\n",
       "      <th>24132</th>\n",
       "      <td>2005160</td>\n",
       "      <td>18172838</td>\n",
       "      <td>25.0</td>\n",
       "      <td>F</td>\n",
       "      <td>W</td>\n",
       "      <td>2018-09-04T19:39:00</td>\n",
       "      <td>E Sycamore ST &amp; Arlington AV Pittsburgh, PA 15211</td>\n",
       "      <td>13(a)(16) Possession of Controlled Substance /...</td>\n",
       "      <td>E Sycamore ST &amp; Arlington AV Pittsburgh, PA 15211</td>\n",
       "      <td>Mount Washington</td>\n",
       "      <td>3</td>\n",
       "      <td>1914.0</td>\n",
       "      <td>3.0</td>\n",
       "      <td>5.0</td>\n",
       "      <td>-80.000559</td>\n",
       "      <td>40.430290</td>\n",
       "    </tr>\n",
       "    <tr>\n",
       "      <th>84795</th>\n",
       "      <td>2060526</td>\n",
       "      <td>23105197</td>\n",
       "      <td>38.0</td>\n",
       "      <td>M</td>\n",
       "      <td>W</td>\n",
       "      <td>2023-07-30T11:00:00</td>\n",
       "      <td>600 Block 1st AV Pittsburgh, PA 15219</td>\n",
       "      <td>5126 Flight to Avoid Apprehension, Trial or Pu...</td>\n",
       "      <td>31st St BRDG &amp; Penn AV Pittsburgh, PA 15201</td>\n",
       "      <td>Strip District</td>\n",
       "      <td>2</td>\n",
       "      <td>203.0</td>\n",
       "      <td>NaN</td>\n",
       "      <td>NaN</td>\n",
       "      <td>NaN</td>\n",
       "      <td>NaN</td>\n",
       "    </tr>\n",
       "    <tr>\n",
       "      <th>79263</th>\n",
       "      <td>2054572</td>\n",
       "      <td>22199304</td>\n",
       "      <td>41.0</td>\n",
       "      <td>M</td>\n",
       "      <td>B</td>\n",
       "      <td>2023-01-12T08:25:00</td>\n",
       "      <td>900 Block 2nd AV Pittsburgh, PA 15219</td>\n",
       "      <td>2705 Recklessy Endangering Another Person. / 5...</td>\n",
       "      <td>7000 Block Formosa WY Pittsburgh, PA 15208</td>\n",
       "      <td>Homewood South</td>\n",
       "      <td>5</td>\n",
       "      <td>1303.0</td>\n",
       "      <td>9.0</td>\n",
       "      <td>2.0</td>\n",
       "      <td>-79.902000</td>\n",
       "      <td>40.456149</td>\n",
       "    </tr>\n",
       "    <tr>\n",
       "      <th>79144</th>\n",
       "      <td>2054356</td>\n",
       "      <td>22193516</td>\n",
       "      <td>43.0</td>\n",
       "      <td>M</td>\n",
       "      <td>B</td>\n",
       "      <td>2022-12-19T11:07:00</td>\n",
       "      <td>1400 Block Sloan AV Pittsburgh, PA 15221</td>\n",
       "      <td>2702 Aggravated Assault. / 2701(a)(1) Simple A...</td>\n",
       "      <td>1400 Block Sloan AV Pittsburgh, PA 15221</td>\n",
       "      <td>Outside City</td>\n",
       "      <td>OSC</td>\n",
       "      <td>5599.0</td>\n",
       "      <td>NaN</td>\n",
       "      <td>NaN</td>\n",
       "      <td>NaN</td>\n",
       "      <td>NaN</td>\n",
       "    </tr>\n",
       "    <tr>\n",
       "      <th>62050</th>\n",
       "      <td>2038396</td>\n",
       "      <td>21099281</td>\n",
       "      <td>59.0</td>\n",
       "      <td>M</td>\n",
       "      <td>B</td>\n",
       "      <td>2021-06-06T15:10:00</td>\n",
       "      <td>800 Block Inwood ST Pittsburgh, PA 15208</td>\n",
       "      <td>2701 Simple Assault.</td>\n",
       "      <td>800 Block Inwood ST Pittsburgh, PA 15208</td>\n",
       "      <td>Homewood West</td>\n",
       "      <td>5</td>\n",
       "      <td>1207.0</td>\n",
       "      <td>9.0</td>\n",
       "      <td>2.0</td>\n",
       "      <td>-79.904981</td>\n",
       "      <td>40.458183</td>\n",
       "    </tr>\n",
       "    <tr>\n",
       "      <th>21132</th>\n",
       "      <td>2001308</td>\n",
       "      <td>18102433</td>\n",
       "      <td>34.0</td>\n",
       "      <td>M</td>\n",
       "      <td>B</td>\n",
       "      <td>2018-05-30T22:15:00</td>\n",
       "      <td>Sylvania AV &amp; Bernd WY Pittsburgh, PA 15210</td>\n",
       "      <td>3112 Traffic-Control Signals. / 13(a)(32) Para...</td>\n",
       "      <td>Sylvania AV &amp; Bernd WY Pittsburgh, PA 15210</td>\n",
       "      <td>Beltzhoover</td>\n",
       "      <td>3</td>\n",
       "      <td>1809.0</td>\n",
       "      <td>3.0</td>\n",
       "      <td>5.0</td>\n",
       "      <td>-79.998325</td>\n",
       "      <td>40.417461</td>\n",
       "    </tr>\n",
       "    <tr>\n",
       "      <th>68897</th>\n",
       "      <td>2044380</td>\n",
       "      <td>21228702</td>\n",
       "      <td>34.0</td>\n",
       "      <td>F</td>\n",
       "      <td>B</td>\n",
       "      <td>2021-12-26T11:56:00</td>\n",
       "      <td>600 Block 1st AV Pittsburgh, PA 15219</td>\n",
       "      <td>3929 Retail Theft.</td>\n",
       "      <td>5500 Block Centre AV Pittsburgh, PA 15232</td>\n",
       "      <td>Shadyside</td>\n",
       "      <td>4</td>\n",
       "      <td>709.0</td>\n",
       "      <td>8.0</td>\n",
       "      <td>2.0</td>\n",
       "      <td>-79.936452</td>\n",
       "      <td>40.456571</td>\n",
       "    </tr>\n",
       "    <tr>\n",
       "      <th>57050</th>\n",
       "      <td>2033956</td>\n",
       "      <td>20102693</td>\n",
       "      <td>21.0</td>\n",
       "      <td>M</td>\n",
       "      <td>B</td>\n",
       "      <td>2021-01-13T13:30:00</td>\n",
       "      <td>900 Block 2ND AV Pittsburgh, PA 15219</td>\n",
       "      <td>3304 Criminal Mischief. / 3502 Burglary. / 350...</td>\n",
       "      <td>700 Block Liberty AV Pittsburgh, PA 15222</td>\n",
       "      <td>Central Business District</td>\n",
       "      <td>2</td>\n",
       "      <td>201.0</td>\n",
       "      <td>6.0</td>\n",
       "      <td>6.0</td>\n",
       "      <td>-79.999856</td>\n",
       "      <td>40.442446</td>\n",
       "    </tr>\n",
       "  </tbody>\n",
       "</table>\n",
       "</div>"
      ],
      "text/plain": [
       "            PK       CCR   AGE GENDER RACE           ARRESTTIME  \\\n",
       "_id                                                               \n",
       "43839  2022906  19264086  28.0      M    W  2019-12-31T15:10:00   \n",
       "62133  2038462  21091650  54.0      M    B  2021-06-22T22:10:00   \n",
       "24132  2005160  18172838  25.0      F    W  2018-09-04T19:39:00   \n",
       "84795  2060526  23105197  38.0      M    W  2023-07-30T11:00:00   \n",
       "79263  2054572  22199304  41.0      M    B  2023-01-12T08:25:00   \n",
       "79144  2054356  22193516  43.0      M    B  2022-12-19T11:07:00   \n",
       "62050  2038396  21099281  59.0      M    B  2021-06-06T15:10:00   \n",
       "21132  2001308  18102433  34.0      M    B  2018-05-30T22:15:00   \n",
       "68897  2044380  21228702  34.0      F    B  2021-12-26T11:56:00   \n",
       "57050  2033956  20102693  21.0      M    B  2021-01-13T13:30:00   \n",
       "\n",
       "                                          ARRESTLOCATION  \\\n",
       "_id                                                        \n",
       "43839      2500 Block Churchview AV Pittsburgh, PA 15227   \n",
       "62133     2000 Block Brownsville RD Pittsburgh, PA 15210   \n",
       "24132  E Sycamore ST & Arlington AV Pittsburgh, PA 15211   \n",
       "84795              600 Block 1st AV Pittsburgh, PA 15219   \n",
       "79263              900 Block 2nd AV Pittsburgh, PA 15219   \n",
       "79144           1400 Block Sloan AV Pittsburgh, PA 15221   \n",
       "62050           800 Block Inwood ST Pittsburgh, PA 15208   \n",
       "21132        Sylvania AV & Bernd WY Pittsburgh, PA 15210   \n",
       "68897              600 Block 1st AV Pittsburgh, PA 15219   \n",
       "57050              900 Block 2ND AV Pittsburgh, PA 15219   \n",
       "\n",
       "                                                OFFENSES  \\\n",
       "_id                                                        \n",
       "43839  903 Criminal Conspiracy. / 2705 Recklessy Enda...   \n",
       "62133  2702 Aggravated Assault. / 3304(a)(5) CRIMINAL...   \n",
       "24132  13(a)(16) Possession of Controlled Substance /...   \n",
       "84795  5126 Flight to Avoid Apprehension, Trial or Pu...   \n",
       "79263  2705 Recklessy Endangering Another Person. / 5...   \n",
       "79144  2702 Aggravated Assault. / 2701(a)(1) Simple A...   \n",
       "62050                               2701 Simple Assault.   \n",
       "21132  3112 Traffic-Control Signals. / 13(a)(32) Para...   \n",
       "68897                                 3929 Retail Theft.   \n",
       "57050  3304 Criminal Mischief. / 3502 Burglary. / 350...   \n",
       "\n",
       "                                        INCIDENTLOCATION  \\\n",
       "_id                                                        \n",
       "43839      2500 Block Churchview AV Pittsburgh, PA 15227   \n",
       "62133     2000 Block Brownsville RD Pittsburgh, PA 15210   \n",
       "24132  E Sycamore ST & Arlington AV Pittsburgh, PA 15211   \n",
       "84795        31st St BRDG & Penn AV Pittsburgh, PA 15201   \n",
       "79263         7000 Block Formosa WY Pittsburgh, PA 15208   \n",
       "79144           1400 Block Sloan AV Pittsburgh, PA 15221   \n",
       "62050           800 Block Inwood ST Pittsburgh, PA 15208   \n",
       "21132        Sylvania AV & Bernd WY Pittsburgh, PA 15210   \n",
       "68897          5500 Block Centre AV Pittsburgh, PA 15232   \n",
       "57050          700 Block Liberty AV Pittsburgh, PA 15222   \n",
       "\n",
       "            INCIDENTNEIGHBORHOOD INCIDENTZONE  INCIDENTTRACT  \\\n",
       "_id                                                            \n",
       "43839                    Carrick            3         2904.0   \n",
       "62133                    Carrick            3         2901.0   \n",
       "24132           Mount Washington            3         1914.0   \n",
       "84795             Strip District            2          203.0   \n",
       "79263             Homewood South            5         1303.0   \n",
       "79144               Outside City          OSC         5599.0   \n",
       "62050              Homewood West            5         1207.0   \n",
       "21132                Beltzhoover            3         1809.0   \n",
       "68897                  Shadyside            4          709.0   \n",
       "57050  Central Business District            2          201.0   \n",
       "\n",
       "       COUNCIL_DISTRICT  PUBLIC_WORKS_DIVISION          X          Y  \n",
       "_id                                                                   \n",
       "43839               4.0                    3.0 -79.979007  40.385918  \n",
       "62133               4.0                    3.0 -79.986868  40.394966  \n",
       "24132               3.0                    5.0 -80.000559  40.430290  \n",
       "84795               NaN                    NaN        NaN        NaN  \n",
       "79263               9.0                    2.0 -79.902000  40.456149  \n",
       "79144               NaN                    NaN        NaN        NaN  \n",
       "62050               9.0                    2.0 -79.904981  40.458183  \n",
       "21132               3.0                    5.0 -79.998325  40.417461  \n",
       "68897               8.0                    2.0 -79.936452  40.456571  \n",
       "57050               6.0                    6.0 -79.999856  40.442446  "
      ]
     },
     "execution_count": 2,
     "metadata": {},
     "output_type": "execute_result"
    }
   ],
   "source": [
    "# load in the Pittsburgh facility data file\n",
    "data = pd.read_csv(\"e03a89dd-134a-4ee8-a2bd-62c40aeebc6f.csv\", index_col=\"_id\")\n",
    "\n",
    "# look at ten random rows of data\n",
    "data.sample(10)"
   ]
  },
  {
   "cell_type": "markdown",
   "metadata": {},
   "source": [
    "This here is 10 random examples of Pittsburgh arrests.  What we are looking for are the neighborhoods of where these arrests are made so now, we will filter accordingly."
   ]
  },
  {
   "cell_type": "markdown",
   "metadata": {},
   "source": [
    "Now, some of this data doesn't have a proper neighborhood, instead listing \"NaN.\"  Let's filter out this data now."
   ]
  },
  {
   "cell_type": "code",
   "execution_count": 3,
   "metadata": {},
   "outputs": [
    {
     "data": {
      "text/html": [
       "<div>\n",
       "<style scoped>\n",
       "    .dataframe tbody tr th:only-of-type {\n",
       "        vertical-align: middle;\n",
       "    }\n",
       "\n",
       "    .dataframe tbody tr th {\n",
       "        vertical-align: top;\n",
       "    }\n",
       "\n",
       "    .dataframe thead th {\n",
       "        text-align: right;\n",
       "    }\n",
       "</style>\n",
       "<table border=\"1\" class=\"dataframe\">\n",
       "  <thead>\n",
       "    <tr style=\"text-align: right;\">\n",
       "      <th></th>\n",
       "      <th>PK</th>\n",
       "      <th>CCR</th>\n",
       "      <th>AGE</th>\n",
       "      <th>GENDER</th>\n",
       "      <th>RACE</th>\n",
       "      <th>ARRESTTIME</th>\n",
       "      <th>ARRESTLOCATION</th>\n",
       "      <th>OFFENSES</th>\n",
       "      <th>INCIDENTLOCATION</th>\n",
       "      <th>INCIDENTNEIGHBORHOOD</th>\n",
       "      <th>INCIDENTZONE</th>\n",
       "      <th>INCIDENTTRACT</th>\n",
       "      <th>COUNCIL_DISTRICT</th>\n",
       "      <th>PUBLIC_WORKS_DIVISION</th>\n",
       "      <th>X</th>\n",
       "      <th>Y</th>\n",
       "    </tr>\n",
       "    <tr>\n",
       "      <th>_id</th>\n",
       "      <th></th>\n",
       "      <th></th>\n",
       "      <th></th>\n",
       "      <th></th>\n",
       "      <th></th>\n",
       "      <th></th>\n",
       "      <th></th>\n",
       "      <th></th>\n",
       "      <th></th>\n",
       "      <th></th>\n",
       "      <th></th>\n",
       "      <th></th>\n",
       "      <th></th>\n",
       "      <th></th>\n",
       "      <th></th>\n",
       "      <th></th>\n",
       "    </tr>\n",
       "  </thead>\n",
       "  <tbody>\n",
       "    <tr>\n",
       "      <th>42598</th>\n",
       "      <td>2021844</td>\n",
       "      <td>19240609</td>\n",
       "      <td>17.0</td>\n",
       "      <td>M</td>\n",
       "      <td>B</td>\n",
       "      <td>2019-12-10T17:00:00</td>\n",
       "      <td>1200 Block Liverpool ST Pittsburgh, PA 15233</td>\n",
       "      <td>3702 Robbery of Motor Vehicle. / 3921 Theft by...</td>\n",
       "      <td>Nixon ST &amp; Manhattan ST Pittsburgh, PA 15233</td>\n",
       "      <td>Manchester</td>\n",
       "      <td>1</td>\n",
       "      <td>2107.0</td>\n",
       "      <td>6.0</td>\n",
       "      <td>1.0</td>\n",
       "      <td>-80.028122</td>\n",
       "      <td>40.459535</td>\n",
       "    </tr>\n",
       "    <tr>\n",
       "      <th>14543</th>\n",
       "      <td>1992863</td>\n",
       "      <td>17134118</td>\n",
       "      <td>18.0</td>\n",
       "      <td>M</td>\n",
       "      <td>B</td>\n",
       "      <td>2017-11-13T09:45:00</td>\n",
       "      <td>600 Block 1st AV Pittsburgh, PA 15219</td>\n",
       "      <td>2705 Recklessy Endangering Another Person. / 3...</td>\n",
       "      <td>2900 Block Sheraden BL Pittsburgh, PA 15204</td>\n",
       "      <td>Sheraden</td>\n",
       "      <td>6</td>\n",
       "      <td>2018.0</td>\n",
       "      <td>2.0</td>\n",
       "      <td>5.0</td>\n",
       "      <td>-80.054058</td>\n",
       "      <td>40.453368</td>\n",
       "    </tr>\n",
       "    <tr>\n",
       "      <th>72445</th>\n",
       "      <td>2047427</td>\n",
       "      <td>22055921</td>\n",
       "      <td>53.0</td>\n",
       "      <td>M</td>\n",
       "      <td>W</td>\n",
       "      <td>2022-04-14T10:52:00</td>\n",
       "      <td>2400 Block Allender AV Pittsburgh, PA 15220</td>\n",
       "      <td>2701 Simple Assault.</td>\n",
       "      <td>2400 Block Allender AV Pittsburgh, PA 15220</td>\n",
       "      <td>Banksville</td>\n",
       "      <td>6</td>\n",
       "      <td>2023.0</td>\n",
       "      <td>2.0</td>\n",
       "      <td>5.0</td>\n",
       "      <td>-80.047237</td>\n",
       "      <td>40.403130</td>\n",
       "    </tr>\n",
       "    <tr>\n",
       "      <th>76787</th>\n",
       "      <td>2051359</td>\n",
       "      <td>22139653</td>\n",
       "      <td>48.0</td>\n",
       "      <td>M</td>\n",
       "      <td>B</td>\n",
       "      <td>2022-08-29T23:00:00</td>\n",
       "      <td>5th AV &amp; Vine ST Pittsburgh, PA 15219</td>\n",
       "      <td>13(a)(16) Possession of Controlled Substance /...</td>\n",
       "      <td>5th AV &amp; Vine ST Pittsburgh, PA 15219</td>\n",
       "      <td>Bluff</td>\n",
       "      <td>2</td>\n",
       "      <td>103.0</td>\n",
       "      <td>6.0</td>\n",
       "      <td>3.0</td>\n",
       "      <td>-79.984089</td>\n",
       "      <td>40.438506</td>\n",
       "    </tr>\n",
       "    <tr>\n",
       "      <th>13194</th>\n",
       "      <td>1991148</td>\n",
       "      <td>17184186</td>\n",
       "      <td>34.0</td>\n",
       "      <td>M</td>\n",
       "      <td>B</td>\n",
       "      <td>2017-09-24T20:18:00</td>\n",
       "      <td>Brushton AV &amp; Baxter ST Pittsburgh, PA 15221</td>\n",
       "      <td>2701 Simple Assault. / 2706 Terroristic Threats.</td>\n",
       "      <td>1000 Block Brushton AV Pittsburgh, PA 15221</td>\n",
       "      <td>Homewood North</td>\n",
       "      <td>5</td>\n",
       "      <td>1301.0</td>\n",
       "      <td>9.0</td>\n",
       "      <td>2.0</td>\n",
       "      <td>-79.887664</td>\n",
       "      <td>40.456543</td>\n",
       "    </tr>\n",
       "    <tr>\n",
       "      <th>79356</th>\n",
       "      <td>2054688</td>\n",
       "      <td>22183052</td>\n",
       "      <td>22.0</td>\n",
       "      <td>M</td>\n",
       "      <td>B</td>\n",
       "      <td>2023-01-18T08:30:00</td>\n",
       "      <td>900 Block 2nd AV Pittsburgh, PA 15219</td>\n",
       "      <td>2701 Simple Assault. / 3921(a) Theft by Unlawf...</td>\n",
       "      <td>1600 Block Clarkton ST Pittsburgh, PA 15204</td>\n",
       "      <td>Windgap</td>\n",
       "      <td>6</td>\n",
       "      <td>2807.0</td>\n",
       "      <td>2.0</td>\n",
       "      <td>5.0</td>\n",
       "      <td>-80.075965</td>\n",
       "      <td>40.459367</td>\n",
       "    </tr>\n",
       "    <tr>\n",
       "      <th>39440</th>\n",
       "      <td>2019072</td>\n",
       "      <td>18237215</td>\n",
       "      <td>13.0</td>\n",
       "      <td>M</td>\n",
       "      <td>B</td>\n",
       "      <td>2019-09-20T07:25:00</td>\n",
       "      <td>2700 Block S Grande BL Greensburg, PA 15601</td>\n",
       "      <td>903 Criminal Conspiracy. / 3928 Unauthorized U...</td>\n",
       "      <td>200 Block N Negley AV Pittsburgh, PA 15206</td>\n",
       "      <td>East Liberty</td>\n",
       "      <td>5</td>\n",
       "      <td>1115.0</td>\n",
       "      <td>9.0</td>\n",
       "      <td>2.0</td>\n",
       "      <td>-79.930075</td>\n",
       "      <td>40.464544</td>\n",
       "    </tr>\n",
       "    <tr>\n",
       "      <th>7240</th>\n",
       "      <td>1983622</td>\n",
       "      <td>17060103</td>\n",
       "      <td>22.0</td>\n",
       "      <td>M</td>\n",
       "      <td>B</td>\n",
       "      <td>2017-04-03T23:03:00</td>\n",
       "      <td>Dollar ST &amp; Centre AV Pittsburgh, PA 15213</td>\n",
       "      <td>13(a)(32) Paraphernalia - Use or Possession</td>\n",
       "      <td>3900 Block Bigelow BL Pittsburgh, PA 15213</td>\n",
       "      <td>North Oakland</td>\n",
       "      <td>4</td>\n",
       "      <td>507.0</td>\n",
       "      <td>6.0</td>\n",
       "      <td>3.0</td>\n",
       "      <td>-79.954183</td>\n",
       "      <td>40.452954</td>\n",
       "    </tr>\n",
       "    <tr>\n",
       "      <th>78549</th>\n",
       "      <td>2053498</td>\n",
       "      <td>22190429</td>\n",
       "      <td>49.0</td>\n",
       "      <td>M</td>\n",
       "      <td>B</td>\n",
       "      <td>2022-11-26T20:47:00</td>\n",
       "      <td>600 Block 1st AV Pittsburgh, PA 15219</td>\n",
       "      <td>3928 Unauthorized Use of Automobile and Other ...</td>\n",
       "      <td>Cedar AV &amp; East Ohio ST Pittsburgh, PA 15212</td>\n",
       "      <td>Allegheny Center</td>\n",
       "      <td>1</td>\n",
       "      <td>2204.0</td>\n",
       "      <td>1.0</td>\n",
       "      <td>1.0</td>\n",
       "      <td>-80.001697</td>\n",
       "      <td>40.453320</td>\n",
       "    </tr>\n",
       "    <tr>\n",
       "      <th>8170</th>\n",
       "      <td>1984825</td>\n",
       "      <td>17081509</td>\n",
       "      <td>54.0</td>\n",
       "      <td>F</td>\n",
       "      <td>W</td>\n",
       "      <td>2017-05-04T22:15:00</td>\n",
       "      <td>1000 Block Logue ST Pittsburgh, PA 15205</td>\n",
       "      <td>13(a)(16) Possession of Controlled Substance /...</td>\n",
       "      <td>1000 Block Logue ST Pittsburgh, PA 15205</td>\n",
       "      <td>Crafton Heights</td>\n",
       "      <td>6</td>\n",
       "      <td>2814.0</td>\n",
       "      <td>2.0</td>\n",
       "      <td>5.0</td>\n",
       "      <td>-80.050071</td>\n",
       "      <td>40.444469</td>\n",
       "    </tr>\n",
       "  </tbody>\n",
       "</table>\n",
       "</div>"
      ],
      "text/plain": [
       "            PK       CCR   AGE GENDER RACE           ARRESTTIME  \\\n",
       "_id                                                               \n",
       "42598  2021844  19240609  17.0      M    B  2019-12-10T17:00:00   \n",
       "14543  1992863  17134118  18.0      M    B  2017-11-13T09:45:00   \n",
       "72445  2047427  22055921  53.0      M    W  2022-04-14T10:52:00   \n",
       "76787  2051359  22139653  48.0      M    B  2022-08-29T23:00:00   \n",
       "13194  1991148  17184186  34.0      M    B  2017-09-24T20:18:00   \n",
       "79356  2054688  22183052  22.0      M    B  2023-01-18T08:30:00   \n",
       "39440  2019072  18237215  13.0      M    B  2019-09-20T07:25:00   \n",
       "7240   1983622  17060103  22.0      M    B  2017-04-03T23:03:00   \n",
       "78549  2053498  22190429  49.0      M    B  2022-11-26T20:47:00   \n",
       "8170   1984825  17081509  54.0      F    W  2017-05-04T22:15:00   \n",
       "\n",
       "                                     ARRESTLOCATION  \\\n",
       "_id                                                   \n",
       "42598  1200 Block Liverpool ST Pittsburgh, PA 15233   \n",
       "14543         600 Block 1st AV Pittsburgh, PA 15219   \n",
       "72445   2400 Block Allender AV Pittsburgh, PA 15220   \n",
       "76787         5th AV & Vine ST Pittsburgh, PA 15219   \n",
       "13194  Brushton AV & Baxter ST Pittsburgh, PA 15221   \n",
       "79356         900 Block 2nd AV Pittsburgh, PA 15219   \n",
       "39440   2700 Block S Grande BL Greensburg, PA 15601   \n",
       "7240     Dollar ST & Centre AV Pittsburgh, PA 15213   \n",
       "78549         600 Block 1st AV Pittsburgh, PA 15219   \n",
       "8170       1000 Block Logue ST Pittsburgh, PA 15205   \n",
       "\n",
       "                                                OFFENSES  \\\n",
       "_id                                                        \n",
       "42598  3702 Robbery of Motor Vehicle. / 3921 Theft by...   \n",
       "14543  2705 Recklessy Endangering Another Person. / 3...   \n",
       "72445                               2701 Simple Assault.   \n",
       "76787  13(a)(16) Possession of Controlled Substance /...   \n",
       "13194   2701 Simple Assault. / 2706 Terroristic Threats.   \n",
       "79356  2701 Simple Assault. / 3921(a) Theft by Unlawf...   \n",
       "39440  903 Criminal Conspiracy. / 3928 Unauthorized U...   \n",
       "7240         13(a)(32) Paraphernalia - Use or Possession   \n",
       "78549  3928 Unauthorized Use of Automobile and Other ...   \n",
       "8170   13(a)(16) Possession of Controlled Substance /...   \n",
       "\n",
       "                                   INCIDENTLOCATION INCIDENTNEIGHBORHOOD  \\\n",
       "_id                                                                        \n",
       "42598  Nixon ST & Manhattan ST Pittsburgh, PA 15233           Manchester   \n",
       "14543   2900 Block Sheraden BL Pittsburgh, PA 15204             Sheraden   \n",
       "72445   2400 Block Allender AV Pittsburgh, PA 15220           Banksville   \n",
       "76787         5th AV & Vine ST Pittsburgh, PA 15219                Bluff   \n",
       "13194   1000 Block Brushton AV Pittsburgh, PA 15221       Homewood North   \n",
       "79356   1600 Block Clarkton ST Pittsburgh, PA 15204              Windgap   \n",
       "39440    200 Block N Negley AV Pittsburgh, PA 15206         East Liberty   \n",
       "7240     3900 Block Bigelow BL Pittsburgh, PA 15213        North Oakland   \n",
       "78549  Cedar AV & East Ohio ST Pittsburgh, PA 15212     Allegheny Center   \n",
       "8170       1000 Block Logue ST Pittsburgh, PA 15205      Crafton Heights   \n",
       "\n",
       "      INCIDENTZONE  INCIDENTTRACT  COUNCIL_DISTRICT  PUBLIC_WORKS_DIVISION  \\\n",
       "_id                                                                          \n",
       "42598            1         2107.0               6.0                    1.0   \n",
       "14543            6         2018.0               2.0                    5.0   \n",
       "72445            6         2023.0               2.0                    5.0   \n",
       "76787            2          103.0               6.0                    3.0   \n",
       "13194            5         1301.0               9.0                    2.0   \n",
       "79356            6         2807.0               2.0                    5.0   \n",
       "39440            5         1115.0               9.0                    2.0   \n",
       "7240             4          507.0               6.0                    3.0   \n",
       "78549            1         2204.0               1.0                    1.0   \n",
       "8170             6         2814.0               2.0                    5.0   \n",
       "\n",
       "               X          Y  \n",
       "_id                          \n",
       "42598 -80.028122  40.459535  \n",
       "14543 -80.054058  40.453368  \n",
       "72445 -80.047237  40.403130  \n",
       "76787 -79.984089  40.438506  \n",
       "13194 -79.887664  40.456543  \n",
       "79356 -80.075965  40.459367  \n",
       "39440 -79.930075  40.464544  \n",
       "7240  -79.954183  40.452954  \n",
       "78549 -80.001697  40.453320  \n",
       "8170  -80.050071  40.444469  "
      ]
     },
     "execution_count": 3,
     "metadata": {},
     "output_type": "execute_result"
    }
   ],
   "source": [
    "data = data.dropna()\n",
    "data.sample(10)"
   ]
  },
  {
   "cell_type": "markdown",
   "metadata": {},
   "source": [
    "Now that we have filtered those out, let's get all the different names of each neighborhood."
   ]
  },
  {
   "cell_type": "code",
   "execution_count": 4,
   "metadata": {},
   "outputs": [
    {
     "name": "stdout",
     "output_type": "stream",
     "text": [
      "Index(['PK', 'CCR', 'AGE', 'GENDER', 'RACE', 'ARRESTTIME', 'ARRESTLOCATION',\n",
      "       'OFFENSES', 'INCIDENTLOCATION', 'INCIDENTNEIGHBORHOOD', 'INCIDENTZONE',\n",
      "       'INCIDENTTRACT', 'COUNCIL_DISTRICT', 'PUBLIC_WORKS_DIVISION', 'X', 'Y'],\n",
      "      dtype='object')\n"
     ]
    }
   ],
   "source": [
    "print(data.columns)"
   ]
  },
  {
   "cell_type": "markdown",
   "metadata": {},
   "source": [
    "This here is all the columns, however we are only focused on INCIDENTNEIGHBORHOOD, so I will get rid of the other values."
   ]
  },
  {
   "cell_type": "code",
   "execution_count": 5,
   "metadata": {},
   "outputs": [],
   "source": [
    "data.columns = ['PK', 'CCR',  'AGE', 'GENDER', 'RACE', 'ARRESTTIME', 'ARRESTLOCATION',\n",
    "       'OFFENSES', 'INCIDENTLOCATION', 'INCIDENTNEIGHBORHOOD', 'INCIDENTZONE',\n",
    "       'INCIDENTTRACT', 'COUNCIL_DISTRICT', 'PUBLIC_WORKS_DIVISION', 'X', 'Y']\n",
    "data = data.drop(columns =  ['PK', 'CCR', 'AGE', 'GENDER', 'RACE', 'ARRESTTIME', 'ARRESTLOCATION',\n",
    "       'OFFENSES', 'INCIDENTLOCATION', 'INCIDENTZONE',\n",
    "       'INCIDENTTRACT', 'COUNCIL_DISTRICT', 'PUBLIC_WORKS_DIVISION', 'X', 'Y'])"
   ]
  },
  {
   "cell_type": "code",
   "execution_count": 6,
   "metadata": {},
   "outputs": [
    {
     "name": "stdout",
     "output_type": "stream",
     "text": [
      "            INCIDENTNEIGHBORHOOD\n",
      "_id                             \n",
      "1                     Bloomfield\n",
      "3                       Westwood\n",
      "4                 East Allegheny\n",
      "5                Crafton Heights\n",
      "6                     Greenfield\n",
      "...                          ...\n",
      "86192           Crawford-Roberts\n",
      "86193           Crawford-Roberts\n",
      "86194                   West End\n",
      "86195              Highland Park\n",
      "86196  Central Business District\n",
      "\n",
      "[54643 rows x 1 columns]\n"
     ]
    }
   ],
   "source": [
    "print(data)"
   ]
  },
  {
   "cell_type": "code",
   "execution_count": 7,
   "metadata": {},
   "outputs": [
    {
     "data": {
      "text/plain": [
       "array(['Bloomfield', 'Westwood', 'East Allegheny', 'Crafton Heights',\n",
       "       'Greenfield', 'Brookline', 'East Hills', 'Carrick',\n",
       "       'Allegheny Center', 'South Side Flats', 'Sheraden',\n",
       "       'East Carnegie', 'Golden Triangle/Civic Arena',\n",
       "       'Point Breeze North', 'Perry South', 'Allentown', 'North Shore',\n",
       "       'Marshall-Shadeland', 'Central Oakland', 'Middle Hill',\n",
       "       'Strip District', 'Lincoln-Lemington-Belmar', 'Central Northside',\n",
       "       'Troy Hill-Herrs Island', 'Highland Park', 'Homewood North',\n",
       "       'Northview Heights', 'Brighton Heights', 'Hazelwood',\n",
       "       'Bedford Dwellings', 'East Liberty', 'Elliott', 'Fineview',\n",
       "       'Glen Hazel', 'Spring Hill-City View', 'Bluff', 'Beechview',\n",
       "       'Manchester', 'Homewood West', 'Point Breeze', 'Homewood South',\n",
       "       'Squirrel Hill South', 'Terrace Village', 'Upper Lawrenceville',\n",
       "       'Arlington', 'South Side Slopes', 'Lower Lawrenceville',\n",
       "       'Garfield', 'Lincoln Place', 'Larimer', 'Mount Washington',\n",
       "       'California-Kirkbride', 'Banksville', 'Bon Air', 'South Shore',\n",
       "       'Beltzhoover', 'Knoxville', 'Chateau', 'Polish Hill', 'Fairywood',\n",
       "       'West End', 'Crawford-Roberts', 'Shadyside', 'Morningside',\n",
       "       'Overbrook', 'Friendship', 'North Oakland',\n",
       "       'Central Lawrenceville', 'Oakwood', 'Upper Hill', 'South Oakland',\n",
       "       'West Oakland', 'Spring Garden', 'Perry North', 'Allegheny West',\n",
       "       'St. Clair', 'Stanton Heights', 'Esplen', 'Squirrel Hill North',\n",
       "       'Mt. Oliver Neighborhood', 'Summer Hill', 'Regent Square',\n",
       "       'Arlington Heights', 'Troy Hill', 'Central Business District',\n",
       "       'Central North Side', 'Mount Oliver', 'Windgap',\n",
       "       'Duquesne Heights', 'New Homestead', 'Ridgemont', 'Outside City',\n",
       "       'Swisshelm Park', 'Hays', 'Outside State', 'Chartiers City',\n",
       "       'Mt. Oliver Boro', 'Outside County'], dtype=object)"
      ]
     },
     "execution_count": 7,
     "metadata": {},
     "output_type": "execute_result"
    }
   ],
   "source": [
    "data['INCIDENTNEIGHBORHOOD'].unique()"
   ]
  },
  {
   "cell_type": "markdown",
   "metadata": {},
   "source": [
    "This here is the number of total unqiue neighborhoods:"
   ]
  },
  {
   "cell_type": "code",
   "execution_count": 8,
   "metadata": {},
   "outputs": [
    {
     "data": {
      "text/plain": [
       "98"
      ]
     },
     "execution_count": 8,
     "metadata": {},
     "output_type": "execute_result"
    }
   ],
   "source": [
    "len(data['INCIDENTNEIGHBORHOOD'].unique())"
   ]
  },
  {
   "cell_type": "markdown",
   "metadata": {},
   "source": [
    "Now I will now deterine the number of times each neighborhood shows up individually."
   ]
  },
  {
   "cell_type": "code",
   "execution_count": 9,
   "metadata": {},
   "outputs": [
    {
     "name": "stdout",
     "output_type": "stream",
     "text": [
      "Central Business District    3804\n",
      "South Side Flats             3158\n",
      "Carrick                      2061\n",
      "East Allegheny               2060\n",
      "Homewood South               1866\n",
      "                             ... \n",
      "Outside State                   8\n",
      "Mt. Oliver Boro                 7\n",
      "Troy Hill-Herrs Island          5\n",
      "Outside County                  5\n",
      "Mt. Oliver Neighborhood         2\n",
      "Name: INCIDENTNEIGHBORHOOD, Length: 98, dtype: int64\n"
     ]
    }
   ],
   "source": [
    "numbers_data = data['INCIDENTNEIGHBORHOOD'].value_counts()\n",
    "print(numbers_data)"
   ]
  },
  {
   "cell_type": "markdown",
   "metadata": {},
   "source": [
    "Based on this data, I can infer that  Mt. Oliver Neighborhood would be the best place to be a successful criminal.  But I am going to map the data in case the areas around that neighborhood are \"unsafe.\""
   ]
  },
  {
   "cell_type": "markdown",
   "metadata": {},
   "source": [
    "First I have to add the above column to the dataset, which I do here."
   ]
  },
  {
   "cell_type": "code",
   "execution_count": 17,
   "metadata": {},
   "outputs": [
    {
     "data": {
      "text/html": [
       "<div>\n",
       "<style scoped>\n",
       "    .dataframe tbody tr th:only-of-type {\n",
       "        vertical-align: middle;\n",
       "    }\n",
       "\n",
       "    .dataframe tbody tr th {\n",
       "        vertical-align: top;\n",
       "    }\n",
       "\n",
       "    .dataframe thead th {\n",
       "        text-align: right;\n",
       "    }\n",
       "</style>\n",
       "<table border=\"1\" class=\"dataframe\">\n",
       "  <thead>\n",
       "    <tr style=\"text-align: right;\">\n",
       "      <th></th>\n",
       "      <th>INCIDENTNEIGHBORHOOD</th>\n",
       "      <th>Incident Numbers</th>\n",
       "    </tr>\n",
       "  </thead>\n",
       "  <tbody>\n",
       "    <tr>\n",
       "      <th>Central Business District</th>\n",
       "      <td>Bloomfield</td>\n",
       "      <td>3804</td>\n",
       "    </tr>\n",
       "    <tr>\n",
       "      <th>South Side Flats</th>\n",
       "      <td>Westwood</td>\n",
       "      <td>3158</td>\n",
       "    </tr>\n",
       "    <tr>\n",
       "      <th>Carrick</th>\n",
       "      <td>East Allegheny</td>\n",
       "      <td>2061</td>\n",
       "    </tr>\n",
       "    <tr>\n",
       "      <th>East Allegheny</th>\n",
       "      <td>Crafton Heights</td>\n",
       "      <td>2060</td>\n",
       "    </tr>\n",
       "    <tr>\n",
       "      <th>Homewood South</th>\n",
       "      <td>Greenfield</td>\n",
       "      <td>1866</td>\n",
       "    </tr>\n",
       "  </tbody>\n",
       "</table>\n",
       "</div>"
      ],
      "text/plain": [
       "                          INCIDENTNEIGHBORHOOD  Incident Numbers\n",
       "Central Business District           Bloomfield              3804\n",
       "South Side Flats                      Westwood              3158\n",
       "Carrick                         East Allegheny              2061\n",
       "East Allegheny                 Crafton Heights              2060\n",
       "Homewood South                      Greenfield              1866"
      ]
     },
     "execution_count": 17,
     "metadata": {},
     "output_type": "execute_result"
    }
   ],
   "source": [
    "data[\"Incident Numbers\"] = numbers_data\n",
    "data.head()"
   ]
  },
  {
   "cell_type": "markdown",
   "metadata": {},
   "source": [
    "So, we have the data we need.  Time to map it."
   ]
  },
  {
   "cell_type": "code",
   "execution_count": 18,
   "metadata": {},
   "outputs": [],
   "source": [
    "import geopandas\n",
    "%matplotlib inline"
   ]
  },
  {
   "cell_type": "code",
   "execution_count": 19,
   "metadata": {},
   "outputs": [
    {
     "name": "stdout",
     "output_type": "stream",
     "text": [
      "                          INCIDENTNEIGHBORHOOD  Incident Numbers\n",
      "Central Business District           Bloomfield              3804\n",
      "South Side Flats                      Westwood              3158\n",
      "Carrick                         East Allegheny              2061\n",
      "East Allegheny                 Crafton Heights              2060\n",
      "Homewood South                      Greenfield              1866\n",
      "...                                        ...               ...\n",
      "Outside State                             Hays                 8\n",
      "Mt. Oliver Boro                  Outside State                 7\n",
      "Troy Hill-Herrs Island          Chartiers City                 5\n",
      "Outside County                 Mt. Oliver Boro                 5\n",
      "Mt. Oliver Neighborhood         Outside County                 2\n",
      "\n",
      "[98 rows x 2 columns]\n"
     ]
    }
   ],
   "source": [
    "data = data.drop_duplicates()\n",
    "print(data)"
   ]
  },
  {
   "cell_type": "markdown",
   "metadata": {},
   "source": [
    "Insert the Pittsburgh neighborhood map"
   ]
  },
  {
   "cell_type": "code",
   "execution_count": 27,
   "metadata": {},
   "outputs": [
    {
     "data": {
      "text/plain": [
       "<matplotlib.axes._subplots.AxesSubplot at 0x7f26caa8daf0>"
      ]
     },
     "execution_count": 27,
     "metadata": {},
     "output_type": "execute_result"
    },
    {
     "data": {
      "image/png": "[encoded data removed]",
      "text/plain": [
       "<Figure size 432x288 with 1 Axes>"
      ]
     },
     "metadata": {
      "needs_background": "light"
     },
     "output_type": "display_data"
    }
   ],
   "source": [
    "df = geopandas.read_file(\"Neighborhoods/Neighborhoods_.shp\") # read in the shapefile\n",
    "df.plot()"
   ]
  },
  {
   "cell_type": "markdown",
   "metadata": {},
   "source": [
    "Merge the dataset with the map"
   ]
  },
  {
   "cell_type": "code",
   "execution_count": 31,
   "metadata": {},
   "outputs": [
    {
     "data": {
      "text/html": [
       "<div>\n",
       "<style scoped>\n",
       "    .dataframe tbody tr th:only-of-type {\n",
       "        vertical-align: middle;\n",
       "    }\n",
       "\n",
       "    .dataframe tbody tr th {\n",
       "        vertical-align: top;\n",
       "    }\n",
       "\n",
       "    .dataframe thead th {\n",
       "        text-align: right;\n",
       "    }\n",
       "</style>\n",
       "<table border=\"1\" class=\"dataframe\">\n",
       "  <thead>\n",
       "    <tr style=\"text-align: right;\">\n",
       "      <th></th>\n",
       "      <th>hood</th>\n",
       "      <th>Incident Numbers</th>\n",
       "      <th>geometry</th>\n",
       "    </tr>\n",
       "  </thead>\n",
       "  <tbody>\n",
       "    <tr>\n",
       "      <th>0</th>\n",
       "      <td>Central Oakland</td>\n",
       "      <td>955.0</td>\n",
       "      <td>POLYGON ((-79.95304 40.44203, -79.95302 40.442...</td>\n",
       "    </tr>\n",
       "    <tr>\n",
       "      <th>1</th>\n",
       "      <td>North Oakland</td>\n",
       "      <td>188.0</td>\n",
       "      <td>POLYGON ((-79.95455 40.45882, -79.95427 40.458...</td>\n",
       "    </tr>\n",
       "    <tr>\n",
       "      <th>2</th>\n",
       "      <td>West Oakland</td>\n",
       "      <td>157.0</td>\n",
       "      <td>POLYGON ((-79.96230 40.44294, -79.96220 40.442...</td>\n",
       "    </tr>\n",
       "    <tr>\n",
       "      <th>3</th>\n",
       "      <td>Crawford-Roberts</td>\n",
       "      <td>224.0</td>\n",
       "      <td>POLYGON ((-79.98275 40.44641, -79.98273 40.446...</td>\n",
       "    </tr>\n",
       "    <tr>\n",
       "      <th>4</th>\n",
       "      <td>Strip District</td>\n",
       "      <td>862.0</td>\n",
       "      <td>POLYGON ((-79.97494 40.45629, -79.97484 40.456...</td>\n",
       "    </tr>\n",
       "  </tbody>\n",
       "</table>\n",
       "</div>"
      ],
      "text/plain": [
       "               hood  Incident Numbers  \\\n",
       "0   Central Oakland             955.0   \n",
       "1     North Oakland             188.0   \n",
       "2      West Oakland             157.0   \n",
       "3  Crawford-Roberts             224.0   \n",
       "4    Strip District             862.0   \n",
       "\n",
       "                                            geometry  \n",
       "0  POLYGON ((-79.95304 40.44203, -79.95302 40.442...  \n",
       "1  POLYGON ((-79.95455 40.45882, -79.95427 40.458...  \n",
       "2  POLYGON ((-79.96230 40.44294, -79.96220 40.442...  \n",
       "3  POLYGON ((-79.98275 40.44641, -79.98273 40.446...  \n",
       "4  POLYGON ((-79.97494 40.45629, -79.97484 40.456...  "
      ]
     },
     "execution_count": 31,
     "metadata": {},
     "output_type": "execute_result"
    }
   ],
   "source": [
    "# do the merge\n",
    "arrest_map = df.merge(data, how='left', left_on='hood', right_on='INCIDENTNEIGHBORHOOD')\n",
    "# look at the head to confirm it merged correctly\n",
    "arrest_map[['hood','Incident Numbers','geometry']].head()"
   ]
  },
  {
   "cell_type": "markdown",
   "metadata": {},
   "source": [
    "Now I will display the neighborhoods via color"
   ]
  },
  {
   "cell_type": "code",
   "execution_count": 32,
   "metadata": {},
   "outputs": [
    {
     "data": {
      "text/plain": [
       "<matplotlib.axes._subplots.AxesSubplot at 0x7f26ca6e63a0>"
      ]
     },
     "execution_count": 32,
     "metadata": {},
     "output_type": "execute_result"
    },
    {
     "data": {
      "image/png": "[encoded data removed]",
      "text/plain": [
       "<Figure size 432x288 with 1 Axes>"
      ]
     },
     "metadata": {
      "needs_background": "light"
     },
     "output_type": "display_data"
    }
   ],
   "source": [
    "arrest_map.plot(column='Incident Numbers')"
   ]
  },
  {
   "cell_type": "markdown",
   "metadata": {},
   "source": [
    "This doesn't seem to mean anything, so here the dataset will be framed accordingly."
   ]
  },
  {
   "cell_type": "code",
   "execution_count": 34,
   "metadata": {},
   "outputs": [
    {
     "data": {
      "text/plain": [
       "<matplotlib.axes._subplots.AxesSubplot at 0x7f26ca689850>"
      ]
     },
     "execution_count": 34,
     "metadata": {},
     "output_type": "execute_result"
    },
    {
     "data": {
      "image/png": "[encoded data removed]",
      "text/plain": [
       "<Figure size 1080x720 with 2 Axes>"
      ]
     },
     "metadata": {
      "needs_background": "light"
     },
     "output_type": "display_data"
    }
   ],
   "source": [
    "arrest_map.plot(column='Incident Numbers', # set the data to be used for coloring\n",
    "               cmap='OrRd',              # choose a color palette\n",
    "               edgecolor=\"white\",        # outline the districts in white\n",
    "               legend=True,              # show the legend\n",
    "               legend_kwds={'label': \"Incident Numbers\"}, # label the legend\n",
    "               figsize=(15, 10),         # set the size\n",
    "               missing_kwds={\"color\": \"lightgrey\"} # set disctricts with no data to gray\n",
    "               )"
   ]
  },
  {
   "cell_type": "markdown",
   "metadata": {},
   "source": [
    "Criminals would want to go to Mt. Oliver Neighborhood."
   ]
  }
 ],
 "metadata": {
  "kernelspec": {
   "display_name": "Python 3",
   "language": "python",
   "name": "python3"
  },
  "language_info": {
   "codemirror_mode": {
    "name": "ipython",
    "version": 3
   },
   "file_extension": ".py",
   "mimetype": "text/x-python",
   "name": "python",
   "nbconvert_exporter": "python",
   "pygments_lexer": "ipython3",
   "version": "3.8.3"
  }
 },
 "nbformat": 4,
 "nbformat_minor": 4
}
